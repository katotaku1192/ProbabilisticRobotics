{
 "cells": [
  {
   "cell_type": "code",
   "execution_count": 1,
   "metadata": {},
   "outputs": [],
   "source": [
    "import matplotlib\n",
    "matplotlib.use('nbagg')\n",
    "import matplotlib.animation as anm\n",
    "import matplotlib.pyplot as plt\n",
    "import math\n",
    "import matplotlib.patches as patches\n",
    "import numpy as np"
   ]
  },
  {
   "cell_type": "code",
   "execution_count": 2,
   "metadata": {},
   "outputs": [],
   "source": [
    "class World:\n",
    "    def __init__(self, debug=False):                 # ここにロボットなどのオブジェクトを登録\n",
    "        self.objects = []\n",
    "        self.debug = debug\n",
    "        \n",
    "    def append(self, obj):              # オブジェクトを登録するための関数\n",
    "        self.objects.append(obj)\n",
    "        \n",
    "    def draw(self):\n",
    "        fig = plt.figure(figsize=(8, 8))     # 8*8 inchの図を準備\n",
    "        ax = fig.add_subplot(111)            # サブプロットを準備\n",
    "        ax.set_aspect('equal')               # 縦横比を座標の値と一致させる\n",
    "        ax.set_xlim(-5, 5)                   # X軸を-5m * 5m の範囲で描画\n",
    "        ax.set_ylim(-5, 5)                   # Y軸も同様に\n",
    "        ax.set_xlabel(\"X\", fontsize=20)      # X軸にラベルを表示\n",
    "        ax.set_ylabel(\"Y\", fontsize=20)      # 同じくY軸に\n",
    "        \n",
    "        elems = []\n",
    "        \n",
    "        if self.debug:\n",
    "            for i in range(1000):\n",
    "                self.one_step(i, elems, ax)\n",
    "        else:\n",
    "            self.ani = anm.FuncAnimation(fig, self.one_step, fargs=(elems, ax), frames=10, interval=1000, repeat=False)\n",
    "            plt.show()\n",
    "        \n",
    "    def one_step(self, i, elems, ax):        # アニメーションを1コマ進める（ときに必要な処理）\n",
    "        while elems:\n",
    "            elems.pop().remove()\n",
    "        elems.append(ax.text(-4.4, 4.5, \"t = \"+str(i), fontsize=10))\n",
    "        for obj in self.objects:\n",
    "            obj.draw(ax, elems)"
   ]
  },
  {
   "cell_type": "code",
   "execution_count": 8,
   "metadata": {},
   "outputs": [],
   "source": [
    "class IdealRobot:\n",
    "    def __init__(self, pose, agent=None, color=\"black\"):\n",
    "        self.pose = pose               # 引数から姿勢の初期値を設定\n",
    "        self.r = 0.2                   # これは描画のためなので固定値\n",
    "        self.color = color             # 引数から描画するときの色を指定\n",
    "        self.agent = agent             # エージェント\n",
    "        self.poses = pose[]            # 軌跡の描画用\n",
    "        \n",
    "    def draw(self, ax, elems):\n",
    "        x, y, theta = self.pose             # 姿勢の変数を分解して3つの変数へ\n",
    "        xn = x + self.r * math.cos(theta)   # ロボットの鼻先のx座標\n",
    "        yn = y + self.r * math.sin(theta)   # ロボットの鼻先のy座標\n",
    "        \n",
    "        elems += ax.plot([x, xn], [y, yn], color=self.color)    # ロボットの向きを表す線分の描画\n",
    "        c = patches.Circle(xy=(x, y), radius=self.r, fill=False, color=self.color)   # ロボットの円を表すオブジェクト\n",
    "        elems.append(ax.add_patch(c)) # 円を描画\n",
    "        \n",
    "        self.poses.append(self.pose) # 軌跡の描画　poses[]に姿勢を追加\n",
    "        elems += ax.plot([e[0] for e in self.poses], [e[1] for e in self.poses], linewidth=0.5, color=\"black\")\n",
    "        \n",
    "    \n",
    "    @classmethod\n",
    "    def state_transition(cls, nu, omega, time, pose):   # nuはvt\n",
    "        t0 = pose[2]                   # θt-1\n",
    "        if math.fabs(omega) < 1e-10:   # fabsは絶対値、角速度がほぼゼロの場合とそうでない場合で場合分け\n",
    "            return pose + np.array( [nu*math.cos(t0), \n",
    "                                     nu*math.sin(t0), \n",
    "                                     omega] ) * time\n",
    "        else:\n",
    "            return pose + np.array( [nu/omega*(math.sin(t0 + omega*time) - math.sin(t0)), \n",
    "                                     nu/omega*(-math.cos(t0 + omega*time) - math.cos(t0)),\n",
    "                                     omega*time] )"
   ]
  },
  {
   "cell_type": "code",
   "execution_count": 9,
   "metadata": {},
   "outputs": [],
   "source": [
    "class Agent:\n",
    "    def __init__(self, nu, omega):\n",
    "        self.nu = nu\n",
    "        self.omega = omega\n",
    "        \n",
    "    def decision(self, observation=None):\n",
    "        return self.nu, self.omega"
   ]
  },
  {
   "cell_type": "code",
   "execution_count": null,
   "metadata": {},
   "outputs": [],
   "source": [
    "world = World()\n",
    "straight = Agent(0.2, 0.0)                 # 0.2[m/s]で直進\n",
    "circling = Agent(0.2, 10.0/180*math.pi)    # 0.2[m/s], 10[deg]で円を描く\n",
    "robot1 = IdealRobot(np.array([2, 3, math.pi/6]).T, straight)\n",
    "robot2 = IdealRobot(np.array([-2, -1, math.pi/5*6]).T, circling, color=\"red\")\n",
    "robot3 = IdealRobot(np.array([0, 0, 0]).T, color=\"blue\")  # エージェントを与えないロボット\n",
    "world.appned(robot1)\n",
    "world.appned(robot2)\n",
    "world.appned(robot3)\n",
    "world.draw()"
   ]
  },
  {
   "cell_type": "code",
   "execution_count": 5,
   "metadata": {},
   "outputs": [
    {
     "data": {
      "text/plain": [
       "array([0.1, 0. , 0. ])"
      ]
     },
     "execution_count": 5,
     "metadata": {},
     "output_type": "execute_result"
    }
   ],
   "source": [
    "# 原点から0.1 m/sで 1 s 直進\n",
    "IdealRobot.state_transition(0.1, 0.0, 1.0, np.array([0, 0, 0]).T)"
   ]
  },
  {
   "cell_type": "code",
   "execution_count": 6,
   "metadata": {},
   "outputs": [
    {
     "data": {
      "text/plain": [
       "array([ 0.5729578 , -0.5729578 ,  1.57079633])"
      ]
     },
     "execution_count": 6,
     "metadata": {},
     "output_type": "execute_result"
    }
   ],
   "source": [
    "# 原点から0.1[m/s], 10[deg/s]で9[s]移動\n",
    "IdealRobot.state_transition(0.1, 10.0/180*math.pi, 9.0, np.array([0, 0, 0]).T)"
   ]
  },
  {
   "cell_type": "code",
   "execution_count": 7,
   "metadata": {},
   "outputs": [
    {
     "data": {
      "text/plain": [
       "array([7.01670930e-17, 0.00000000e+00, 3.14159265e+00])"
      ]
     },
     "execution_count": 7,
     "metadata": {},
     "output_type": "execute_result"
    }
   ],
   "source": [
    "# 原点から0.1[m/s], 10[deg/s]で18[s]移動\n",
    "IdealRobot.state_transition(0.1, 10.0/180*math.pi, 18.0, np.array([0, 0, 0]).T)"
   ]
  }
 ],
 "metadata": {
  "kernelspec": {
   "display_name": "Python 3",
   "language": "python",
   "name": "python3"
  },
  "language_info": {
   "codemirror_mode": {
    "name": "ipython",
    "version": 3
   },
   "file_extension": ".py",
   "mimetype": "text/x-python",
   "name": "python",
   "nbconvert_exporter": "python",
   "pygments_lexer": "ipython3",
   "version": "3.8.3"
  }
 },
 "nbformat": 4,
 "nbformat_minor": 4
}
