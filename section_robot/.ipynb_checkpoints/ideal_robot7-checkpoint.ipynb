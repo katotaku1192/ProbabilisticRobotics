{
 "cells": [
  {
   "cell_type": "code",
   "execution_count": 1,
   "metadata": {},
   "outputs": [],
   "source": [
    "import matplotlib\n",
    "matplotlib.use('nbagg')\n",
    "import matplotlib.animation as anm\n",
    "import matplotlib.pyplot as plt\n",
    "import math\n",
    "import matplotlib.patches as patches\n",
    "import numpy as np"
   ]
  },
  {
   "cell_type": "code",
   "execution_count": 2,
   "metadata": {},
   "outputs": [],
   "source": [
    "class World:\n",
    "    def __init__(self, time_span, time_interval, debug=False):                 # ここにロボットなどのオブジェクトを登録\n",
    "        self.objects = []\n",
    "        self.debug = debug\n",
    "        self.time_span = time_span\n",
    "        self.time_interval = time_interval\n",
    "        \n",
    "    def append(self, obj):              # オブジェクトを登録するための関数\n",
    "        self.objects.append(obj)\n",
    "        \n",
    "    def draw(self):\n",
    "        fig = plt.figure(figsize=(8, 8))     # 8*8 inchの図を準備\n",
    "        ax = fig.add_subplot(111)            # サブプロットを準備\n",
    "        ax.set_aspect('equal')               # 縦横比を座標の値と一致させる\n",
    "        ax.set_xlim(-5, 5)                   # X軸を-5m * 5m の範囲で描画\n",
    "        ax.set_ylim(-5, 5)                   # Y軸も同様に\n",
    "        ax.set_xlabel(\"X\", fontsize=20)      # X軸にラベルを表示\n",
    "        ax.set_ylabel(\"Y\", fontsize=20)      # 同じくY軸に\n",
    "        \n",
    "        elems = []\n",
    "        \n",
    "        if self.debug:\n",
    "            for i in range(1000):\n",
    "                self.one_step(i, elems, ax)\n",
    "        else:\n",
    "            self.ani = anm.FuncAnimation(fig, self.one_step, fargs=(elems, ax),\n",
    "                                         frames=int(self.time_span / self.time_interval) + 1, \n",
    "                                         interval=int(self.time_interval*1000), repeat=False)\n",
    "            plt.show()\n",
    "        \n",
    "    def one_step(self, i, elems, ax):        # アニメーションを1コマ進める（ときに必要な処理）\n",
    "        while elems:\n",
    "            elems.pop().remove()\n",
    "        time_str = \"t = %.2f[s]\" % (self.time_interval*i)\n",
    "        elems.append(ax.text(-4.4, 4.5, time_str, fontsize=10))\n",
    "        for obj in self.objects:\n",
    "            obj.draw(ax, elems)\n",
    "            if hasattr(obj, \"one_step\"): obj.one_step(self.time_interval)"
   ]
  },
  {
   "cell_type": "code",
   "execution_count": 3,
   "metadata": {},
   "outputs": [],
   "source": [
    "class IdealRobot:\n",
    "    def __init__(self, pose, agent=None, color=\"black\"):\n",
    "        self.pose = pose               # 引数から姿勢の初期値を設定\n",
    "        self.r = 0.2                   # これは描画のためなので固定値\n",
    "        self.color = color             # 引数から描画するときの色を指定\n",
    "        self.agent = agent             # エージェント\n",
    "        self.poses = [pose]            # 軌跡の描画用\n",
    "        \n",
    "    def draw(self, ax, elems):\n",
    "        x, y, theta = self.pose             # 姿勢の変数を分解して3つの変数へ\n",
    "        xn = x + self.r * math.cos(theta)   # ロボットの鼻先のx座標\n",
    "        yn = y + self.r * math.sin(theta)   # ロボットの鼻先のy座標\n",
    "        \n",
    "        elems += ax.plot([x, xn], [y, yn], color=self.color)    # ロボットの向きを表す線分の描画\n",
    "        c = patches.Circle(xy=(x, y), radius=self.r, fill=False, color=self.color)   # ロボットの円を表すオブジェクト\n",
    "        elems.append(ax.add_patch(c)) # 円を描画\n",
    "        \n",
    "        self.poses.append(self.pose) # 軌跡の描画　poses[]に姿勢を追加\n",
    "        elems += ax.plot([e[0] for e in self.poses], [e[1] for e in self.poses], linewidth=0.5, color=\"black\")\n",
    "        \n",
    "    \n",
    "    @classmethod\n",
    "    def state_transition(cls, nu, omega, time, pose):   # nuはvt\n",
    "        t0 = pose[2]                   # θt-1\n",
    "        if math.fabs(omega) < 1e-10:   # fabsは絶対値、角速度がほぼゼロの場合とそうでない場合で場合分け\n",
    "            return pose + np.array( [nu*math.cos(t0), \n",
    "                                     nu*math.sin(t0), \n",
    "                                     omega] ) * time\n",
    "        else:\n",
    "            return pose + np.array( [nu/omega*(math.sin(t0 + omega*time) - math.sin(t0)), \n",
    "                                     nu/omega*(-math.cos(t0 + omega*time) + math.cos(t0)),\n",
    "                                     omega*time] )\n",
    "        \n",
    "    def one_step(self, time_interval):\n",
    "        if not self.agent: return\n",
    "        nu, omega = self.agent.decision()\n",
    "        self.pose = self.state_transition(nu, omega, time_interval, self.pose)"
   ]
  },
  {
   "cell_type": "code",
   "execution_count": 4,
   "metadata": {},
   "outputs": [],
   "source": [
    "class Agent:\n",
    "    def __init__(self, nu, omega):\n",
    "        self.nu = nu\n",
    "        self.omega = omega\n",
    "        \n",
    "    def decision(self, observation=None):\n",
    "        return self.nu, self.omega"
   ]
  },
  {
   "cell_type": "code",
   "execution_count": 5,
   "metadata": {},
   "outputs": [],
   "source": [
    "class LandMark:\n",
    "    def __init__(self, x, y):\n",
    "        self.pos = np.array([x, y]).T\n",
    "        self.id = None\n",
    "        \n",
    "    def draw(self, ax, elems):\n",
    "        c = ax.scatter(self.pos[0], self.pos[1], s=100, marker=\"*\", label=\"landmarks\", color=\"orange\")\n",
    "        elems.append(c)\n",
    "        elems.append(ax.text(self.pos[0], self.pos[1], \"id:\" + str(self.id), fontsize=10))"
   ]
  },
  {
   "cell_type": "code",
   "execution_count": 6,
   "metadata": {},
   "outputs": [],
   "source": [
    "class Map:\n",
    "    def __init__(self):\n",
    "        self.landmarks = []\n",
    "        \n",
    "    def append_landmark(self, landmark):\n",
    "        landmark.id = len(self.landmarks)     # landmarks[]の長さをidにして登録、追加するランドマークにIDを与える\n",
    "        self.landmarks.append(landmark)\n",
    "        \n",
    "    def draw(self, ax, elems):                # IdealRobotのdrawと同じ引数、同じような処理（elemsに追加）を行う\n",
    "        for lm in self.landmarks: lm.draw(ax, elems)"
   ]
  },
  {
   "cell_type": "code",
   "execution_count": 7,
   "metadata": {},
   "outputs": [],
   "source": [
    "class IdealCamera:\n",
    "    def __init__(self, env_map):\n",
    "        self.map = env_map\n",
    "        \n",
    "    def data(self, cam_pose):\n",
    "        observed = []\n",
    "        for lm in self.map.landmarks:\n",
    "            p = self.observation_function(cam_pose, lm.pos)\n",
    "            observed.append((p, lm.id))\n",
    "            \n",
    "        return observed\n",
    "    \n",
    "    @classmethod\n",
    "    def observation_function(cls, cam_pose, obj_pos):\n",
    "        diff = obj_pos - cam_pose[0:2]\n",
    "        phi = math.atan2(diff[1], diff[0]) - cam_pose[2]\n",
    "        while phi >= np.pi:\n",
    "            phi -= 2*np.pi\n",
    "        while phi < -np.pi:\n",
    "            phi += 2*np.pi\n",
    "        return np.array( [np.hypot(*diff), phi] ).T"
   ]
  },
  {
   "cell_type": "code",
   "execution_count": 8,
   "metadata": {},
   "outputs": [],
   "source": [
    "world = World(10, 0.1)\n",
    "\n",
    "# 地図を生成して3つランドマークを追加\n",
    "m = Map()\n",
    "m.append_landmark(LandMark(2, -2))\n",
    "m.append_landmark(LandMark(-1, -3))\n",
    "m.append_landmark(LandMark(3, 3))\n",
    "world.append(m)\n",
    "                  \n",
    "# ロボットを作る\n",
    "straight = Agent(0.2, 0.0)                 # 0.2[m/s]で直進\n",
    "circling = Agent(0.2, 10.0/180*math.pi)    # 0.2[m/s], 10[deg]で円を描く\n",
    "robot1 = IdealRobot(np.array([2, 3, math.pi/6]).T, straight)\n",
    "robot2 = IdealRobot(np.array([-2, -1, math.pi/5*6]).T, circling, \"red\")\n",
    "robot3 = IdealRobot(np.array([0, 0, 0]).T, color=\"blue\")  # エージェントを与えないロボット\n",
    "world.append(robot1)\n",
    "world.append(robot2)\n",
    "world.append(robot3)\n",
    "\n",
    "# アニメーション実行\n",
    "world.draw()"
   ]
  },
  {
   "cell_type": "code",
   "execution_count": 9,
   "metadata": {},
   "outputs": [
    {
     "name": "stdout",
     "output_type": "stream",
     "text": [
      "[(array([4.12310563, 2.26829546]), 0), (array([2.23606798, 1.40612541]), 1), (array([ 6.40312424, -3.09517024]), 2)]\n"
     ]
    }
   ],
   "source": [
    "cam = IdealCamera(m)\n",
    "p = cam.data(robot2.pose)\n",
    "print(p)"
   ]
  }
 ],
 "metadata": {
  "kernelspec": {
   "display_name": "Python 3",
   "language": "python",
   "name": "python3"
  },
  "language_info": {
   "codemirror_mode": {
    "name": "ipython",
    "version": 3
   },
   "file_extension": ".py",
   "mimetype": "text/x-python",
   "name": "python",
   "nbconvert_exporter": "python",
   "pygments_lexer": "ipython3",
   "version": "3.8.3"
  }
 },
 "nbformat": 4,
 "nbformat_minor": 4
}
