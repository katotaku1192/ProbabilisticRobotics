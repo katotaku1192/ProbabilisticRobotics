{
 "cells": [
  {
   "cell_type": "code",
   "execution_count": null,
   "metadata": {},
   "outputs": [],
   "source": [
    "%matplotlib inline\n",
    "import matplotlib.pyplot as plt\n",
    "import numpy as np\n",
    "from scipy.stats import multivariate_normal\n",
    "import math\n",
    "\n",
    "x, y = np.mgrid[0:200, 0:100]\n",
    "pos = np.empty(x.shape + (2,))\n",
    "pos[:, :, 0] = x\n",
    "pos[:, :, 1] = y\n",
    "\n",
    "a = multivariate_normal(mean=[50, 50], cov=[[50, 0], [0, 100]])\n",
    "b = multivariate_normal(mean=[100, 50], cov=[[125, 0], [0, 25]])\n",
    "c = multivariate_normal(mean=[150, 50], cov=[[100, -25*math.sqrt(3)], [-25*math.sqrt(3), 50]])\n",
    "\n",
    "for e in [a, b, c]:\n",
    "    plt.contour(x, y, e.pdf(pos))\n",
    "    \n",
    "plt.gca().set_aspect('equal')\n",
    "plt.gca().set_xlabel('x')\n",
    "plt.gca().set_ylabel('y')\n",
    "\n",
    "plt.show()"
   ]
  }
 ],
 "metadata": {
  "kernelspec": {
   "display_name": "Python 3",
   "language": "python",
   "name": "python3"
  },
  "language_info": {
   "codemirror_mode": {
    "name": "ipython",
    "version": 3
   },
   "file_extension": ".py",
   "mimetype": "text/x-python",
   "name": "python",
   "nbconvert_exporter": "python",
   "pygments_lexer": "ipython3",
   "version": "3.8.3"
  }
 },
 "nbformat": 4,
 "nbformat_minor": 4
}
