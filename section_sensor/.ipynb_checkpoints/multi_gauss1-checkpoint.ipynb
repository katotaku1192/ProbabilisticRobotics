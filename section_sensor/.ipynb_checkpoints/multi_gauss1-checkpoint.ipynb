{
 "cells": [
  {
   "cell_type": "code",
   "execution_count": 10,
   "metadata": {},
   "outputs": [
    {
     "data": {
      "image/png": "[encoded data removed]",
      "text/plain": [
       "<Figure size 432x432 with 3 Axes>"
      ]
     },
     "metadata": {
      "needs_background": "light"
     },
     "output_type": "display_data"
    },
    {
     "data": {
      "text/html": [
       "<div>\n",
       "<style scoped>\n",
       "    .dataframe tbody tr th:only-of-type {\n",
       "        vertical-align: middle;\n",
       "    }\n",
       "\n",
       "    .dataframe tbody tr th {\n",
       "        vertical-align: top;\n",
       "    }\n",
       "\n",
       "    .dataframe thead th {\n",
       "        text-align: right;\n",
       "    }\n",
       "</style>\n",
       "<table border=\"1\" class=\"dataframe\">\n",
       "  <thead>\n",
       "    <tr style=\"text-align: right;\">\n",
       "      <th></th>\n",
       "      <th>ir</th>\n",
       "      <th>lidar</th>\n",
       "    </tr>\n",
       "  </thead>\n",
       "  <tbody>\n",
       "    <tr>\n",
       "      <th>3833</th>\n",
       "      <td>14</td>\n",
       "      <td>730</td>\n",
       "    </tr>\n",
       "    <tr>\n",
       "      <th>3834</th>\n",
       "      <td>14</td>\n",
       "      <td>724</td>\n",
       "    </tr>\n",
       "    <tr>\n",
       "      <th>3835</th>\n",
       "      <td>21</td>\n",
       "      <td>724</td>\n",
       "    </tr>\n",
       "    <tr>\n",
       "      <th>3836</th>\n",
       "      <td>26</td>\n",
       "      <td>725</td>\n",
       "    </tr>\n",
       "    <tr>\n",
       "      <th>3837</th>\n",
       "      <td>14</td>\n",
       "      <td>723</td>\n",
       "    </tr>\n",
       "    <tr>\n",
       "      <th>...</th>\n",
       "      <td>...</td>\n",
       "      <td>...</td>\n",
       "    </tr>\n",
       "    <tr>\n",
       "      <th>65155</th>\n",
       "      <td>8</td>\n",
       "      <td>729</td>\n",
       "    </tr>\n",
       "    <tr>\n",
       "      <th>65156</th>\n",
       "      <td>25</td>\n",
       "      <td>730</td>\n",
       "    </tr>\n",
       "    <tr>\n",
       "      <th>65157</th>\n",
       "      <td>10</td>\n",
       "      <td>731</td>\n",
       "    </tr>\n",
       "    <tr>\n",
       "      <th>65158</th>\n",
       "      <td>15</td>\n",
       "      <td>735</td>\n",
       "    </tr>\n",
       "    <tr>\n",
       "      <th>65159</th>\n",
       "      <td>19</td>\n",
       "      <td>733</td>\n",
       "    </tr>\n",
       "  </tbody>\n",
       "</table>\n",
       "<p>14174 rows × 2 columns</p>\n",
       "</div>"
      ],
      "text/plain": [
       "       ir  lidar\n",
       "3833   14    730\n",
       "3834   14    724\n",
       "3835   21    724\n",
       "3836   26    725\n",
       "3837   14    723\n",
       "...    ..    ...\n",
       "65155   8    729\n",
       "65156  25    730\n",
       "65157  10    731\n",
       "65158  15    735\n",
       "65159  19    733\n",
       "\n",
       "[14174 rows x 2 columns]"
      ]
     },
     "execution_count": 10,
     "metadata": {},
     "output_type": "execute_result"
    }
   ],
   "source": [
    "import pandas as pd\n",
    "import seaborn as sns\n",
    "import matplotlib.pyplot as plt\n",
    "\n",
    "data = pd.read_csv(\"sensor_data_700.txt\", delimiter=\" \", header=None, names=(\"date\", \"time\", \"ir\", \"lidar\"))\n",
    "\n",
    "d = data[(data[\"time\"]<160000) & (data[\"time\"]>120000)]\n",
    "d = d.loc[:, [\"ir\", \"lidar\"]]\n",
    "\n",
    "sns.jointplot(d[\"ir\"], d[\"lidar\"], d, kind=\"kde\")\n",
    "plt.show()\n",
    "d"
   ]
  },
  {
   "cell_type": "code",
   "execution_count": 11,
   "metadata": {},
   "outputs": [
    {
     "name": "stdout",
     "output_type": "stream",
     "text": [
      "光センサの計測値の分散 42.11952074692658\n",
      "LiDARの計測値の分散 17.70250147019656\n",
      "共分散 -0.31746881654543757\n",
      "19.860448708903625\n",
      "729.3121913362495\n"
     ]
    }
   ],
   "source": [
    "print(\"光センサの計測値の分散\", d.ir.var())\n",
    "print(\"LiDARの計測値の分散\", d.lidar.var())\n",
    "\n",
    "diff_ir = d.ir - d.ir.mean()\n",
    "diff_lidar = d.lidar - d.lidar.mean()\n",
    "\n",
    "a = diff_ir * diff_lidar\n",
    "print(\"共分散\", sum(a)/(len(d)-1))\n",
    "\n",
    "print(d.ir.mean())\n",
    "print(d.lidar.mean())"
   ]
  },
  {
   "cell_type": "code",
   "execution_count": 14,
   "metadata": {},
   "outputs": [
    {
     "data": {
      "text/html": [
       "<div>\n",
       "<style scoped>\n",
       "    .dataframe tbody tr th:only-of-type {\n",
       "        vertical-align: middle;\n",
       "    }\n",
       "\n",
       "    .dataframe tbody tr th {\n",
       "        vertical-align: top;\n",
       "    }\n",
       "\n",
       "    .dataframe thead th {\n",
       "        text-align: right;\n",
       "    }\n",
       "</style>\n",
       "<table border=\"1\" class=\"dataframe\">\n",
       "  <thead>\n",
       "    <tr style=\"text-align: right;\">\n",
       "      <th></th>\n",
       "      <th>ir</th>\n",
       "      <th>lidar</th>\n",
       "    </tr>\n",
       "  </thead>\n",
       "  <tbody>\n",
       "    <tr>\n",
       "      <th>ir</th>\n",
       "      <td>42.119521</td>\n",
       "      <td>-0.317469</td>\n",
       "    </tr>\n",
       "    <tr>\n",
       "      <th>lidar</th>\n",
       "      <td>-0.317469</td>\n",
       "      <td>17.702501</td>\n",
       "    </tr>\n",
       "  </tbody>\n",
       "</table>\n",
       "</div>"
      ],
      "text/plain": [
       "              ir      lidar\n",
       "ir     42.119521  -0.317469\n",
       "lidar  -0.317469  17.702501"
      ]
     },
     "execution_count": 14,
     "metadata": {},
     "output_type": "execute_result"
    }
   ],
   "source": [
    "d.cov()"
   ]
  },
  {
   "cell_type": "code",
   "execution_count": 16,
   "metadata": {},
   "outputs": [],
   "source": [
    "from scipy.stats import multivariate_normal\n",
    "\n",
    "irlidar = multivariate_normal(mean=d.mean().values.T, cov=d.cov().values)"
   ]
  },
  {
   "cell_type": "code",
   "execution_count": 23,
   "metadata": {},
   "outputs": [
    {
     "data": {
      "image/png": "[encoded data removed]",
      "text/plain": [
       "<Figure size 432x288 with 1 Axes>"
      ]
     },
     "metadata": {
      "needs_background": "light"
     },
     "output_type": "display_data"
    }
   ],
   "source": [
    "import numpy as np\n",
    "\n",
    "x, y = np.mgrid[0:40, 710:750]\n",
    "pos = np.empty(x.shape + (2,))\n",
    "pos[:, :, 0] = x\n",
    "pos[:, :, 1] = y\n",
    "\n",
    "cont = plt.contour(x, y, irlidar.pdf(pos))\n",
    "cont.clabel(fmt='%1.1e')\n",
    "\n",
    "plt.show()"
   ]
  },
  {
   "cell_type": "code",
   "execution_count": 24,
   "metadata": {},
   "outputs": [
    {
     "name": "stdout",
     "output_type": "stream",
     "text": [
      "[[ 0  0  0 ...  0  0  0]\n",
      " [ 1  1  1 ...  1  1  1]\n",
      " [ 2  2  2 ...  2  2  2]\n",
      " ...\n",
      " [37 37 37 ... 37 37 37]\n",
      " [38 38 38 ... 38 38 38]\n",
      " [39 39 39 ... 39 39 39]]\n",
      "[[710 711 712 ... 747 748 749]\n",
      " [710 711 712 ... 747 748 749]\n",
      " [710 711 712 ... 747 748 749]\n",
      " ...\n",
      " [710 711 712 ... 747 748 749]\n",
      " [710 711 712 ... 747 748 749]\n",
      " [710 711 712 ... 747 748 749]]\n"
     ]
    }
   ],
   "source": [
    "print(x)\n",
    "print(y)"
   ]
  },
  {
   "cell_type": "code",
   "execution_count": null,
   "metadata": {},
   "outputs": [],
   "source": [
    "c = d.cov().values + np.array([[20, 0], [0, 20]])\n",
    "tmp = multivariate_normal(mean=d.mean().values.T, cov=c)\n",
    "cout = plt.contour(x, y, tmp.pdf(pos))\n",
    "\n",
    "plt.show()"
   ]
  }
 ],
 "metadata": {
  "kernelspec": {
   "display_name": "Python 3",
   "language": "python",
   "name": "python3"
  },
  "language_info": {
   "codemirror_mode": {
    "name": "ipython",
    "version": 3
   },
   "file_extension": ".py",
   "mimetype": "text/x-python",
   "name": "python",
   "nbconvert_exporter": "python",
   "pygments_lexer": "ipython3",
   "version": "3.8.3"
  }
 },
 "nbformat": 4,
 "nbformat_minor": 4
}
